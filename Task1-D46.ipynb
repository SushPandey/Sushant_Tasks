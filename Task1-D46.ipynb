{
 "cells": [
  {
   "cell_type": "code",
   "execution_count": 3,
   "id": "3d45e106",
   "metadata": {},
   "outputs": [
    {
     "name": "stdout",
     "output_type": "stream",
     "text": [
      "Create Username:Delhi@gmail.com\n",
      "Create Password:Delhi@456\n",
      "Confirm Password:Delhi@456\n",
      "password created successfully\n"
     ]
    }
   ],
   "source": [
    "#Register\n",
    "import re\n",
    "def register():\n",
    "    \n",
    "    Username = input ('Create Username:')\n",
    "    pattern= '[a-zA-Z]*@[a-z]*.[a-z]{2,3}'\n",
    "    match_email=re.match(pattern,Username)\n",
    "    if not match_email:\n",
    "        print('enter a valid email address')\n",
    "        register()\n",
    "    else:\n",
    "        Password = input ('Create Password:')\n",
    "        Password1 = input ('Confirm Password:')\n",
    "        if Password != Password1:\n",
    "            print('Password does not match, Try again')\n",
    "            register()\n",
    "        else:\n",
    "            if len(Password)<5:\n",
    "                print(\"Password is too short!! Try Again\")\n",
    "                register()\n",
    "            elif len(Password)>16:\n",
    "                print(\"Password is too lengthy!! Try Again\")\n",
    "                register()  \n",
    "            else:\n",
    "                pattern2='(?=.*[a-z])(?=.*[A-Z])(?=.*\\d)(?=.*[@$!%*#?&])[A-Za-z\\d@$!#%*?&]{5,16}$'\n",
    "            match_pass=re.match(pattern2,Password)\n",
    "            if not match_pass:\n",
    "                print('Enter a valid password using using ')\n",
    "                register()\n",
    "            else:\n",
    "                print('password created successfully')                                \n",
    "                db = open(r\"C:\\Users\\Vizho LLP\\OneDrive - VIZHO LLP\\Desktop\\task1.txt\",'a')\n",
    "                db.write(Username+','+Password+'\\n')\n",
    "                db.close()\n",
    "register() "
   ]
  },
  {
   "cell_type": "code",
   "execution_count": null,
   "id": "72c365c9",
   "metadata": {},
   "outputs": [],
   "source": [
    "#Login\n",
    "UN=input('Enter Username')\n",
    "PS=input('Enter Password')\n",
    "db = open(r\"C:\\Users\\Vizho LLP\\OneDrive - VIZHO LLP\\Desktop\\task1.txt\",'r')\n",
    "if UN == register(Username):\n",
    "    try:\n",
    "        if PS == db[Password]:  \n",
    "            print('login successful')\n",
    "            print('Hi',Username)\n",
    "        else:\n",
    "            print('Username or Password incorrect')\n",
    "    except:\n",
    "        print('Try again')\n",
    "else:\n",
    "    print('Username does not exist')\n",
    "db.close()"
   ]
  },
  {
   "cell_type": "code",
   "execution_count": null,
   "id": "4d8118b1",
   "metadata": {},
   "outputs": [],
   "source": []
  }
 ],
 "metadata": {
  "kernelspec": {
   "display_name": "Python 3 (ipykernel)",
   "language": "python",
   "name": "python3"
  },
  "language_info": {
   "codemirror_mode": {
    "name": "ipython",
    "version": 3
   },
   "file_extension": ".py",
   "mimetype": "text/x-python",
   "name": "python",
   "nbconvert_exporter": "python",
   "pygments_lexer": "ipython3",
   "version": "3.9.12"
  }
 },
 "nbformat": 4,
 "nbformat_minor": 5
}
